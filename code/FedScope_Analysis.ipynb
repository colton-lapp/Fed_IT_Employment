{
 "cells": [
  {
   "cell_type": "code",
   "execution_count": 77,
   "metadata": {},
   "outputs": [],
   "source": [
    "import pandas as pd\n",
    "import matplotlib.pyplot as plt\n",
    "import os "
   ]
  },
  {
   "cell_type": "code",
   "execution_count": 78,
   "metadata": {},
   "outputs": [
    {
     "data": {
      "text/plain": [
       "'/Users/coltonlapp/Dropbox/My Mac (Coltons-MacBook-Pro.local)/Desktop/Work/USDC/publicwork/Fed_IT_Employment'"
      ]
     },
     "execution_count": 78,
     "metadata": {},
     "output_type": "execute_result"
    }
   ],
   "source": [
    "\n",
    "folder_name = 'Fed_IT_Employment'\n",
    "# get root dir which ends in folder_name\n",
    "folder_dir = os.getcwd()\n",
    "while os.path.basename(folder_dir) != folder_name:\n",
    "    folder_dir = os.path.dirname(folder_dir)\n",
    "folder_dir\n"
   ]
  },
  {
   "cell_type": "code",
   "execution_count": 79,
   "metadata": {},
   "outputs": [
    {
     "data": {
      "text/plain": [
       "'/Users/coltonlapp/Dropbox/My Mac (Coltons-MacBook-Pro.local)/Desktop/Work/USDC/publicwork/Fed_IT_Employment/data/raw_data'"
      ]
     },
     "execution_count": 79,
     "metadata": {},
     "output_type": "execute_result"
    }
   ],
   "source": [
    "rdir = os.path.join( folder_dir, 'data', 'raw_data')\n",
    "rdir\n"
   ]
  },
  {
   "cell_type": "code",
   "execution_count": 80,
   "metadata": {},
   "outputs": [],
   "source": [
    "years_sep = [str(y) for y in range(1998, 2024)]\n",
    "years_quart = [str(y) for y in range(2010, 2024)]\n",
    "\n",
    "\n",
    "file_info = {\n",
    "\n",
    "    'quarter_file_info': [\n",
    "         { 'month':'MAR', 'years':years_quart},\n",
    "         { 'month':'JUN', 'years':years_quart},\n",
    "         { 'month':'SEP', 'years':years_sep},\n",
    "         { 'month':'DEC', 'years':years_quart}\n",
    "         ],\n",
    "\n",
    "    'filenames' : {\n",
    "        'fedscope_folder' : 'FedScope_{}{}',\n",
    "        'emp_data' : 'FACTDATA_{month}{year}.TXT',\n",
    "        'age_codebook' : 'DTagelvl.txt'\n",
    "        }   \n",
    "}\n",
    "\n"
   ]
  },
  {
   "cell_type": "code",
   "execution_count": 81,
   "metadata": {},
   "outputs": [],
   "source": [
    "# Create mapping of column names to their descriptions\n",
    "\n",
    "colname_map = {\n",
    "    'AGYSUB' : 'agency',\n",
    "    'LOC' : 'location',\n",
    "    'AGELVL' : 'age',\n",
    "    'EDLVL' : 'ed_level',\n",
    "    'GSEGRD' : 'gen_sched_eq_grade',\n",
    "    'LOSLVL' : 'length_of_service',\n",
    "    'OCC' : 'occupation',\n",
    "    'PATCO' : 'occupation_category',\n",
    "    'PPGRD' : 'pay_plan_grade',\n",
    "    'SALLVL' : 'salary_level',\n",
    "    'STEMOCC' : 'stem_occ',\n",
    "    'SUPERVIS' : 'supervisory_status',\n",
    "    'TOA' : 'type_of_appointment',\n",
    "    'WORKSCH' : 'work_schedule',\n",
    "    'WORKSTAT' : 'work_status',\n",
    "    'DATECODE' : 'date',\n",
    "    'EMPLOYMENT' : 'employment',\n",
    "    'SALARY' : 'avg_salary',\n",
    "    'LOS' : 'avg_length_of_service'\n",
    "}\n",
    "\n",
    "# IT series\n",
    "IT_series = [\n",
    "    '2210' # IT Management\n",
    "    #,'1515' # OR\n",
    "    #,'1550' # Comp Sci\n",
    "    #,'1520' # Math\n",
    "    #,'1560' # Data Science\n",
    "]\n",
    "\n",
    "def map_age(df, folder):\n",
    "    age_codebook = pd.read_csv(os.path.join( rdir, folder, file_info['filenames']['age_codebook']))\n",
    "    \n",
    "    # turn age_codebook df into a dictionary mapping  column AGELVL to column AGELVLT\n",
    "    age_dict = dict(zip(age_codebook['AGELVL'], age_codebook['AGELVLT']))\n",
    "\n",
    "    # map AGELVL to AGELVLT\n",
    "    df['age'] = df['age'].map(age_dict)\n",
    "    return df"
   ]
  },
  {
   "cell_type": "code",
   "execution_count": 82,
   "metadata": {},
   "outputs": [
    {
     "name": "stdout",
     "output_type": "stream",
     "text": [
      "FACTDATA_MAR2010.TXT\n"
     ]
    },
    {
     "name": "stderr",
     "output_type": "stream",
     "text": [
      "/var/folders/np/9tdxr2056n39qzb1mpdsjrtc0000gn/T/ipykernel_15963/2258006711.py:9: DtypeWarning: Columns (1,3,6,11,12) have mixed types. Specify dtype option on import or set low_memory=False.\n",
      "  df = pd.read_csv(os.path.join(rdir, folder, fname))\n"
     ]
    },
    {
     "name": "stdout",
     "output_type": "stream",
     "text": [
      "  agency location         age ed_level occupation  occupation_category  \\\n",
      "0   AA00       11  65 or more     21.0        301                    2   \n",
      "1   AB00       IT       60-64      7.0       1630                    2   \n",
      "2   AB00       FR       50-54      4.0       1630                    2   \n",
      "3   AB00       BE       60-64      4.0       1630                    2   \n",
      "4   AB00       FR       55-59     17.0        301                    2   \n",
      "\n",
      "  pay_plan_grade    date  \n",
      "0          EX-02  201003  \n",
      "1          GS-12  201003  \n",
      "2          GS-12  201003  \n",
      "3          GS-12  201003  \n",
      "4          GS-15  201003  \n",
      "FACTDATA_JUN2010.TXT\n"
     ]
    },
    {
     "name": "stderr",
     "output_type": "stream",
     "text": [
      "/var/folders/np/9tdxr2056n39qzb1mpdsjrtc0000gn/T/ipykernel_15963/2258006711.py:9: DtypeWarning: Columns (3,6,11,12) have mixed types. Specify dtype option on import or set low_memory=False.\n",
      "  df = pd.read_csv(os.path.join(rdir, folder, fname))\n"
     ]
    },
    {
     "name": "stdout",
     "output_type": "stream",
     "text": [
      "  agency location         age ed_level occupation  occupation_category  \\\n",
      "0   AA00       11  65 or more       21       0301                    2   \n",
      "1   AB00       FR       50-54       10       1630                    2   \n",
      "2   AB00       NL       55-59       17       1630                    2   \n",
      "3   AB00       FR       55-59       10       1630                    2   \n",
      "4   AB00       51       60-64       17       1035                    2   \n",
      "\n",
      "  pay_plan_grade    date  \n",
      "0          EX-02  201006  \n",
      "1          GS-09  201006  \n",
      "2          GS-09  201006  \n",
      "3          GS-11  201006  \n",
      "4          GS-15  201006  \n",
      "FACTDATA_SEP1998.TXT\n"
     ]
    },
    {
     "name": "stderr",
     "output_type": "stream",
     "text": [
      "/var/folders/np/9tdxr2056n39qzb1mpdsjrtc0000gn/T/ipykernel_15963/2258006711.py:9: DtypeWarning: Columns (3,4,6,11,12) have mixed types. Specify dtype option on import or set low_memory=False.\n",
      "  df = pd.read_csv(os.path.join(rdir, folder, fname))\n"
     ]
    },
    {
     "name": "stdout",
     "output_type": "stream",
     "text": [
      "  agency location    age ed_level occupation  occupation_category  \\\n",
      "0   AB00       IT  55-59       04       1630                    2   \n",
      "1   AB00       RP  45-49       04       1630                    2   \n",
      "2   AB00       BE  50-54       10       1630                    2   \n",
      "3   AB00       FR  35-39       17        810                    1   \n",
      "4   AB00       NL  60-64       04       1630                    2   \n",
      "\n",
      "  pay_plan_grade    date  \n",
      "0          GS-11  199809  \n",
      "1          GS-08  199809  \n",
      "2          GS-09  199809  \n",
      "3          GS-13  199809  \n",
      "4          GS-12  199809  \n",
      "FACTDATA_DEC2010.TXT\n"
     ]
    },
    {
     "name": "stderr",
     "output_type": "stream",
     "text": [
      "/var/folders/np/9tdxr2056n39qzb1mpdsjrtc0000gn/T/ipykernel_15963/2258006711.py:9: DtypeWarning: Columns (3,6,11,12) have mixed types. Specify dtype option on import or set low_memory=False.\n",
      "  df = pd.read_csv(os.path.join(rdir, folder, fname))\n"
     ]
    },
    {
     "name": "stdout",
     "output_type": "stream",
     "text": [
      "  agency location    age ed_level occupation  occupation_category  \\\n",
      "0   AA00       11  25-29       13       0950                    2   \n",
      "1   AA00       11  45-49       15       0905                    1   \n",
      "2   AA00       11  30-34       15       0301                    2   \n",
      "3   AA00       11  25-29       15       0905                    1   \n",
      "4   AA00       11  50-54       07       0301                    2   \n",
      "\n",
      "  pay_plan_grade    date  \n",
      "0          GS-07  201012  \n",
      "1          ES-**  201012  \n",
      "2          ES-**  201012  \n",
      "3          GS-13  201012  \n",
      "4          GS-12  201012  \n"
     ]
    }
   ],
   "source": [
    "cols_keep = ['agency', 'location', 'age', 'ed_level', 'occupation', 'occupation_category', 'pay_plan_grade', 'date']\n",
    "\n",
    "for my_dict in file_info['quarter_file_info']:\n",
    "    \n",
    "    for year in my_dict['years']:\n",
    "        folder = file_info['filenames']['fedscope_folder'].format(my_dict['month'].title(), year)\n",
    "        fname = file_info['filenames']['emp_data'].format(month=my_dict['month'], year=year)\n",
    "        print(fname)\n",
    "        df = pd.read_csv(os.path.join(rdir, folder, fname))\n",
    "\n",
    "        # rename df\n",
    "        df.rename(columns=colname_map, inplace=True)\n",
    "        \n",
    "        # subset \n",
    "        df = df[cols_keep]\n",
    "\n",
    "        df = map_age(df, folder)\n",
    "\n",
    "        print(df.head())\n",
    "        break"
   ]
  },
  {
   "cell_type": "code",
   "execution_count": 84,
   "metadata": {},
   "outputs": [
    {
     "data": {
      "image/png": "[encoded data removed]",
      "text/plain": [
       "<Figure size 1000x600 with 1 Axes>"
      ]
     },
     "metadata": {},
     "output_type": "display_data"
    }
   ],
   "source": [
    "# cateogrical order of ages\n",
    "ages = ['Less than 20', '20-24', '25-29', '30-34', '35-39', '40-44', '45-49', '50-54', '55-59', '60-64', '65 or more', 'Unspecified']\n",
    "\n",
    "# remove ages that don't occur in df\n",
    "ages = [age for age in ages if age in df['age'].unique()]\n",
    "\n",
    "# Calculate value counts as percentages\n",
    "age_counts_all = df['age'].value_counts(normalize=True).loc[ages] * 100\n",
    "age_counts_IT = df_IT['age'].value_counts(normalize=True).loc[ages] * 100\n",
    "\n",
    "# Create the grouped bar plot\n",
    "fig, ax = plt.subplots(figsize=(10, 6))\n",
    "\n",
    "# Define the positions for the bars\n",
    "bar_width = 0.35\n",
    "index = range(len(ages))\n",
    "\n",
    "# Plot the bars\n",
    "bars_all = ax.bar(index, age_counts_all, bar_width, label='All Occupations')\n",
    "bars_IT = ax.bar([i + bar_width for i in index], age_counts_IT, bar_width, label='IT Specialists')\n",
    "\n",
    "# Add labels and title\n",
    "ax.set_xlabel('Age')\n",
    "ax.set_ylabel('Percentage')\n",
    "ax.set_title('Age Distribution Comparison')\n",
    "ax.set_xticks([i + bar_width / 2 for i in index])\n",
    "ax.set_xticklabels(ages)\n",
    "ax.legend()\n",
    "\n",
    "plt.tight_layout()\n",
    "plt.show()"
   ]
  },
  {
   "cell_type": "code",
   "execution_count": null,
   "metadata": {},
   "outputs": [],
   "source": []
  }
 ],
 "metadata": {
  "kernelspec": {
   "display_name": "Python 3",
   "language": "python",
   "name": "python3"
  },
  "language_info": {
   "codemirror_mode": {
    "name": "ipython",
    "version": 3
   },
   "file_extension": ".py",
   "mimetype": "text/x-python",
   "name": "python",
   "nbconvert_exporter": "python",
   "pygments_lexer": "ipython3",
   "version": "3.11.5"
  }
 },
 "nbformat": 4,
 "nbformat_minor": 2
}
