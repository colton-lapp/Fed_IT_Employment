{
 "cells": [
  {
   "cell_type": "markdown",
   "metadata": {},
   "source": [
    "# Libs"
   ]
  },
  {
   "cell_type": "code",
   "execution_count": 15,
   "metadata": {},
   "outputs": [],
   "source": [
    "import geopandas as gpd\n",
    "import requests\n",
    "import json\n",
    "import pandas as pd\n",
    "import os \n",
    "from tqdm import tqdm\n",
    "from fredapi import Fred\n"
   ]
  },
  {
   "cell_type": "markdown",
   "metadata": {},
   "source": [
    "## Set Pathing"
   ]
  },
  {
   "cell_type": "code",
   "execution_count": 8,
   "metadata": {},
   "outputs": [
    {
     "name": "stdout",
     "output_type": "stream",
     "text": [
      "Base directory: /Users/coltonlapp/Dropbox/My Mac (Coltons-MacBook-Pro.local)/Desktop/Work/USDC/publicwork/Fed_IT_Employment\n",
      "Raw data directory: /Users/coltonlapp/Dropbox/My Mac (Coltons-MacBook-Pro.local)/Desktop/Work/USDC/publicwork/Fed_IT_Employment/data/raw_data\n"
     ]
    }
   ],
   "source": [
    "# get root dir which ends in repo_name\n",
    "repo_name = 'Fed_IT_Employment'\n",
    "root = os.getcwd()\n",
    "while os.path.basename(root) != repo_name:\n",
    "    root = os.path.dirname(root)\n",
    "\n",
    "# Get raw data directory\n",
    "rdir = os.path.join( root, 'data', 'raw_data')\n",
    "pdir = os.path.join( root, 'data', 'processed_data')\n",
    "\n",
    "print(f\"Base directory: {root}\\nRaw data directory: {rdir}\")"
   ]
  },
  {
   "cell_type": "markdown",
   "metadata": {},
   "source": [
    "## Get API Keys"
   ]
  },
  {
   "cell_type": "code",
   "execution_count": 9,
   "metadata": {},
   "outputs": [
    {
     "name": "stdout",
     "output_type": "stream",
     "text": [
      "Census API key loaded successfully.\n"
     ]
    }
   ],
   "source": [
    "# Function to load API keys from the JSON file\n",
    "def load_api_keys(filepath=os.path.join(root, 'api_keys.json')):\n",
    "    with open(filepath) as f:\n",
    "        keys = json.load(f)\n",
    "    return keys\n",
    "\n",
    "# Load the API keys\n",
    "api_keys = load_api_keys()\n",
    "\n",
    "# Access the Census API key\n",
    "CENSUS_API_KEY = api_keys.get('census_api_key')\n",
    "if CENSUS_API_KEY is None:\n",
    "    raise ValueError('The Census API key is missing. Please provide a valid key.')\n",
    "else:  \n",
    "    print('Census API key loaded successfully.')\n"
   ]
  },
  {
   "cell_type": "markdown",
   "metadata": {},
   "source": [
    "## Get Shapefiles for States"
   ]
  },
  {
   "cell_type": "code",
   "execution_count": 10,
   "metadata": {},
   "outputs": [
    {
     "data": {
      "text/html": [
       "<div>\n",
       "<style scoped>\n",
       "    .dataframe tbody tr th:only-of-type {\n",
       "        vertical-align: middle;\n",
       "    }\n",
       "\n",
       "    .dataframe tbody tr th {\n",
       "        vertical-align: top;\n",
       "    }\n",
       "\n",
       "    .dataframe thead th {\n",
       "        text-align: right;\n",
       "    }\n",
       "</style>\n",
       "<table border=\"1\" class=\"dataframe\">\n",
       "  <thead>\n",
       "    <tr style=\"text-align: right;\">\n",
       "      <th></th>\n",
       "      <th>geometry</th>\n",
       "      <th>state</th>\n",
       "      <th>fips</th>\n",
       "    </tr>\n",
       "  </thead>\n",
       "  <tbody>\n",
       "    <tr>\n",
       "      <th>0</th>\n",
       "      <td>POLYGON ((-87.359 35.001, -85.607 34.985, -85....</td>\n",
       "      <td>Alabama</td>\n",
       "      <td>01</td>\n",
       "    </tr>\n",
       "    <tr>\n",
       "      <th>1</th>\n",
       "      <td>MULTIPOLYGON (((-131.602 55.118, -131.569 55.2...</td>\n",
       "      <td>Alaska</td>\n",
       "      <td>02</td>\n",
       "    </tr>\n",
       "    <tr>\n",
       "      <th>2</th>\n",
       "      <td>POLYGON ((-109.043 37.000, -109.048 31.332, -1...</td>\n",
       "      <td>Arizona</td>\n",
       "      <td>04</td>\n",
       "    </tr>\n",
       "    <tr>\n",
       "      <th>3</th>\n",
       "      <td>POLYGON ((-94.474 36.502, -90.153 36.496, -90....</td>\n",
       "      <td>Arkansas</td>\n",
       "      <td>05</td>\n",
       "    </tr>\n",
       "    <tr>\n",
       "      <th>4</th>\n",
       "      <td>POLYGON ((-123.233 42.006, -122.379 42.012, -1...</td>\n",
       "      <td>California</td>\n",
       "      <td>06</td>\n",
       "    </tr>\n",
       "  </tbody>\n",
       "</table>\n",
       "</div>"
      ],
      "text/plain": [
       "                                            geometry       state fips\n",
       "0  POLYGON ((-87.359 35.001, -85.607 34.985, -85....     Alabama   01\n",
       "1  MULTIPOLYGON (((-131.602 55.118, -131.569 55.2...      Alaska   02\n",
       "2  POLYGON ((-109.043 37.000, -109.048 31.332, -1...     Arizona   04\n",
       "3  POLYGON ((-94.474 36.502, -90.153 36.496, -90....    Arkansas   05\n",
       "4  POLYGON ((-123.233 42.006, -122.379 42.012, -1...  California   06"
      ]
     },
     "execution_count": 10,
     "metadata": {},
     "output_type": "execute_result"
    }
   ],
   "source": [
    "# download shapefiles from github for state boundaries\n",
    "state_shapefile_link = 'https://raw.githubusercontent.com/PublicaMundi/MappingAPI/master/data/geojson/us-states.json'\n",
    "\n",
    "\n",
    "# Download the shapefile\n",
    "r = requests.get(state_shapefile_link)\n",
    "data = r.json()\n",
    "states_shapes = gpd.GeoDataFrame.from_features(data['features'])\n",
    "\n",
    "ids = [feature['id'] for feature in data['features']]\n",
    "states_shapes['id'] = ids\n",
    "\n",
    "states_shapes = states_shapes.drop(columns=['density'])\n",
    "states_shapes = states_shapes.rename(columns={'name':'state', 'id':'fips'})\n",
    "\n",
    "states_shapes.head()\n",
    "\n"
   ]
  },
  {
   "cell_type": "markdown",
   "metadata": {},
   "source": [
    "## Get Population Timeseries for States from FRED"
   ]
  },
  {
   "cell_type": "code",
   "execution_count": 11,
   "metadata": {},
   "outputs": [
    {
     "name": "stderr",
     "output_type": "stream",
     "text": [
      "Fetching population data from FRED: 100%|██████████| 50/50 [00:17<00:00,  2.86state/s]"
     ]
    },
    {
     "name": "stdout",
     "output_type": "stream",
     "text": [
      "        date  population state_abbr fips\n",
      "0 2000-01-01    4452.173         AL   01\n",
      "1 2001-01-01    4467.634         AL   01\n",
      "2 2002-01-01    4480.089         AL   01\n",
      "3 2003-01-01    4503.491         AL   01\n",
      "4 2004-01-01    4530.729         AL   01\n"
     ]
    },
    {
     "name": "stderr",
     "output_type": "stream",
     "text": [
      "\n"
     ]
    }
   ],
   "source": [
    "\n",
    "\n",
    "# Your FRED API Key\n",
    "FRED_API_KEY = api_keys.get('FRED_api_key')\n",
    "\n",
    "# Initialize the FRED API client\n",
    "fred = Fred(api_key=FRED_API_KEY)\n",
    "\n",
    "# List of state abbreviations and FIPS codes\n",
    "states = {\n",
    "    'AL': '01', 'AK': '02', 'AZ': '04', 'AR': '05', 'CA': '06', 'CO': '08', 'CT': '09',\n",
    "    'DE': '10', 'FL': '12', 'GA': '13', 'HI': '15', 'ID': '16', 'IL': '17', 'IN': '18',\n",
    "    'IA': '19', 'KS': '20', 'KY': '21', 'LA': '22', 'ME': '23', 'MD': '24', 'MA': '25',\n",
    "    'MI': '26', 'MN': '27', 'MS': '28', 'MO': '29', 'MT': '30', 'NE': '31', 'NV': '32',\n",
    "    'NH': '33', 'NJ': '34', 'NM': '35', 'NY': '36', 'NC': '37', 'ND': '38', 'OH': '39',\n",
    "    'OK': '40', 'OR': '41', 'PA': '42', 'RI': '44', 'SC': '45', 'SD': '46', 'TN': '47',\n",
    "    'TX': '48', 'UT': '49', 'VT': '50', 'VA': '51', 'WA': '53', 'WV': '54', 'WI': '55',\n",
    "    'WY': '56'\n",
    "}\n",
    "\n",
    "# Initialize an empty list to store the DataFrames\n",
    "dfs = []\n",
    "\n",
    "# Fetch data for each state with a progress bar\n",
    "for state_abbr, fips in tqdm(states.items(), desc=\"Fetching population data from FRED\", unit=\"state\"):\n",
    "    # Construct the FRED series ID for population (this is an example, adjust according to actual series IDs)\n",
    "    series_id = f\"{state_abbr}POP\"\n",
    "    \n",
    "    try:\n",
    "        # Fetch the population time series from FRED for the state\n",
    "        population_series = fred.get_series(series_id, observation_start='2000-01-01', observation_end='2023-12-31')\n",
    "        \n",
    "        # Convert the series to a DataFrame\n",
    "        df = population_series.reset_index()\n",
    "        df.columns = ['date', 'population']\n",
    "\n",
    "        # divide by 1000 to get millions of people\n",
    "        df['population'] = df['population'] \n",
    "        \n",
    "        # Add state abbreviation and FIPS code columns\n",
    "        df['state_abbr'] = state_abbr\n",
    "        df['fips'] = fips\n",
    "        \n",
    "        # Append the DataFrame to the list\n",
    "        dfs.append(df)\n",
    "    \n",
    "    except Exception as e:\n",
    "        print(f\"Failed to fetch data for {state_abbr} ({fips}): {e}\")\n",
    "\n",
    "\n",
    "# Concatenate all the state DataFrames into one large DataFrame\n",
    "df_combined = pd.concat(dfs, ignore_index=True)\n",
    "\n",
    "# Show the combined DataFrame\n",
    "print(df_combined.head())\n",
    "\n",
    "# Optionally, save the combined data to a CSV file\n",
    "df_combined.to_csv('state_population_2000_2023.csv', index=False)"
   ]
  },
  {
   "cell_type": "markdown",
   "metadata": {},
   "source": [
    "## Save to processed dir"
   ]
  },
  {
   "cell_type": "code",
   "execution_count": 17,
   "metadata": {},
   "outputs": [],
   "source": [
    "df_combined.to_csv(os.path.join(pdir, 'state_population_2000_2023.csv'), index=False)\n",
    "\n",
    "# save geodataframe as shapefile\n",
    "os.mkdir(os.path.join(pdir, 'states_shapefile'))\n",
    "states_shapes.to_file(os.path.join(pdir, 'states_shapefile', 'states_shapefile.shp'))"
   ]
  }
 ],
 "metadata": {
  "kernelspec": {
   "display_name": "Python 3",
   "language": "python",
   "name": "python3"
  },
  "language_info": {
   "codemirror_mode": {
    "name": "ipython",
    "version": 3
   },
   "file_extension": ".py",
   "mimetype": "text/x-python",
   "name": "python",
   "nbconvert_exporter": "python",
   "pygments_lexer": "ipython3",
   "version": "3.11.5"
  }
 },
 "nbformat": 4,
 "nbformat_minor": 2
}
