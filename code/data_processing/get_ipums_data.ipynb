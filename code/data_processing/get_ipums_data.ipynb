{
  "cells": [
    {
      "cell_type": "code",
      "execution_count": 21,
      "metadata": {
        "id": "EN5MOJJnz3v6"
      },
      "outputs": [],
      "source": [
        "import pprint\n",
        "import json\n",
        "import requests\n",
        "import os\n",
        "\n",
        "import pandas as pd\n",
        "import gzip\n"
      ]
    },
    {
      "cell_type": "code",
      "execution_count": 15,
      "metadata": {},
      "outputs": [
        {
          "name": "stdout",
          "output_type": "stream",
          "text": [
            "Base directory: /Users/coltonlapp/Dropbox/My Mac (Coltons-MacBook-Pro.local)/Desktop/Work/USDC/publicwork/Fed_IT_Employment\n",
            "Raw data directory: /Users/coltonlapp/Dropbox/My Mac (Coltons-MacBook-Pro.local)/Desktop/Work/USDC/publicwork/Fed_IT_Employment/data/raw_data\n"
          ]
        }
      ],
      "source": [
        "# get root dir which ends in repo_name\n",
        "repo_name = 'Fed_IT_Employment'\n",
        "root = os.getcwd()\n",
        "while os.path.basename(root) != repo_name:\n",
        "    root = os.path.dirname(root)\n",
        "\n",
        "# Get raw data directory\n",
        "rdir = os.path.join( root, 'data', 'raw_data')\n",
        "\n",
        "pdir = os.path.join( root, 'data', 'processed_data')\n",
        "\n",
        "print(f\"Base directory: {root}\\nRaw data directory: {rdir}\")"
      ]
    },
    {
      "cell_type": "markdown",
      "metadata": {
        "id": "EfsyYgRO3iRT"
      },
      "source": [
        "## Set up IPUMS API"
      ]
    },
    {
      "cell_type": "code",
      "execution_count": 3,
      "metadata": {
        "id": "5Bl0znNk1gPU"
      },
      "outputs": [],
      "source": [
        "# Set IPUMS API variables\n",
        "collection = 'usa'\n",
        "version = '2'\n",
        "\n",
        "# Read in IPUMS_api_key from api_keys.json\n",
        "with open( os.path.join(root, 'api_keys.json')) as f:\n",
        "    api_keys = json.load(f)\n",
        "IPUMS_api_key = api_keys['IPUMS_api_key']\n",
        "\n",
        "url = f'https://api.ipums.org/extracts?collection={collection}&version={version}'\n",
        "\n",
        "headers = {\n",
        "    'Authorization': f'{IPUMS_api_key}',\n",
        "    'Content-Type': 'application/json'\n",
        "}"
      ]
    },
    {
      "cell_type": "markdown",
      "metadata": {
        "id": "Z4tLPQxV1qw7"
      },
      "source": [
        "# Check past extract requests for this collection"
      ]
    },
    {
      "cell_type": "code",
      "execution_count": 4,
      "metadata": {
        "colab": {
          "base_uri": "https://localhost:8080/"
        },
        "id": "xVhQzw5a1fKr",
        "outputId": "157298d9-df8e-4d43-f62f-7d4d25c94264"
      },
      "outputs": [
        {
          "name": "stdout",
          "output_type": "stream",
          "text": [
            "Extracts:\n",
            "...Type: <class 'list'>\n",
            "...Length: 4\n",
            "[{'downloadLinks': {'basicCodebook': {'bytes': 57446,\n",
            "                                      'sha256': 'e4170ae42103dbdbad82d473d6ec10d93d5d71f37ad764985040251cb7c496ee',\n",
            "                                      'url': 'https://api.ipums.org/downloads/usa/api/v1/extracts/2351804/usa_00004.cbk'},\n",
            "                    'data': {'bytes': 221741052,\n",
            "                             'sha256': '3bfad877e53cd1fa8177d3153467535a018ccd930844e376c0809bbe4b798725',\n",
            "                             'url': 'https://api.ipums.org/downloads/usa/api/v1/extracts/2351804/usa_00004.dat.gz'},\n",
            "                    'ddiCodebook': {'bytes': 152907,\n",
            "                                    'sha256': '1747b3677594d8cb843472b9cb883b37e169fe39103471f3b332af40e0f3bd66',\n",
            "                                    'url': 'https://api.ipums.org/downloads/usa/api/v1/extracts/2351804/usa_00004.xml'},\n",
            "                    'rCommandFile': {'bytes': 406,\n",
            "                                     'sha256': 'a97a37cd1391ca146f53c2304048e6fabdde54a7ab09ac5c64d286e99a3e7dfa',\n",
            "                                     'url': 'https://api.ipums.org/downloads/usa/api/v1/extracts/2351804/usa_00004.R'},\n",
            "                    'sasCommandFile': {'bytes': 43988,\n",
            "                                       'sha256': '008b95baabd511bbc03f0132d41a81f1ad709309d15adf4b3b1d204a36d3129d',\n",
            "                                       'url': 'https://api.ipums.org/downloads/usa/api/v1/extracts/2351804/usa_00004.sas'},\n",
            "                    'spssCommandFile': {'bytes': 45485,\n",
            "                                        'sha256': 'fbfdb4c036e905e32b58d865c752c39f93f2ff732b9346a0704f5b0c560f8a66',\n",
            "                                        'url': 'https://api.ipums.org/downloads/usa/api/v1/extracts/2351804/usa_00004.sps'},\n",
            "                    'stataCommandFile': {'bytes': 75305,\n",
            "                                         'sha256': '8efc0aea784887afd561d73b9b444251df82c79ee7625da97ac9b856229e1956',\n",
            "                                         'url': 'https://api.ipums.org/downloads/usa/api/v1/extracts/2351804/usa_00004.do'}},\n",
            "  'email': 'colton.lapp@gsa.gov',\n",
            "  'extractDefinition': {'caseSelectWho': 'individuals',\n",
            "                        'collection': 'usa',\n",
            "                        'dataFormat': 'fixed_width',\n",
            "                        'dataStructure': {'rectangular': {'on': 'P'}},\n",
            "                        'description': 'ACS Extract Attempt',\n",
            "                        'samples': {'us2005a': {},\n",
            "                                    'us2010a': {},\n",
            "                                    'us2015a': {},\n",
            "                                    'us2020a': {}},\n",
            "                        'variables': {'AGE': {},\n",
            "                                      'CBSERIAL': {'preselected': True},\n",
            "                                      'CLUSTER': {'preselected': True},\n",
            "                                      'DISABWRK': {},\n",
            "                                      'EDUC': {},\n",
            "                                      'GQ': {'preselected': True},\n",
            "                                      'HHWT': {'preselected': True},\n",
            "                                      'INCTOT': {},\n",
            "                                      'INDNAICS': {},\n",
            "                                      'OCC2010': {},\n",
            "                                      'OFFPOV': {},\n",
            "                                      'PERNUM': {'preselected': True},\n",
            "                                      'PERWT': {'preselected': True},\n",
            "                                      'RACE': {},\n",
            "                                      'SAMPLE': {'preselected': True},\n",
            "                                      'SERIAL': {'preselected': True},\n",
            "                                      'SEX': {},\n",
            "                                      'SPMPOV': {},\n",
            "                                      'STATEFIP': {},\n",
            "                                      'STRATA': {'preselected': True},\n",
            "                                      'YEAR': {'preselected': True}},\n",
            "                        'version': 2},\n",
            "  'number': 4,\n",
            "  'status': 'completed'},\n",
            " {'downloadLinks': {'basicCodebook': {'bytes': 57446,\n",
            "                                      'sha256': 'e4170ae42103dbdbad82d473d6ec10d93d5d71f37ad764985040251cb7c496ee',\n",
            "                                      'url': 'https://api.ipums.org/downloads/usa/api/v1/extracts/2351802/usa_00003.cbk'},\n",
            "                    'data': {'bytes': 221741052,\n",
            "                             'sha256': '3bfad877e53cd1fa8177d3153467535a018ccd930844e376c0809bbe4b798725',\n",
            "                             'url': 'https://api.ipums.org/downloads/usa/api/v1/extracts/2351802/usa_00003.dat.gz'},\n",
            "                    'ddiCodebook': {'bytes': 152907,\n",
            "                                    'sha256': 'dd828ac8842ae978ba3c7f4d4029a8187417730bed7f9f546744125406d80bc6',\n",
            "                                    'url': 'https://api.ipums.org/downloads/usa/api/v1/extracts/2351802/usa_00003.xml'},\n",
            "                    'rCommandFile': {'bytes': 406,\n",
            "                                     'sha256': '07e9fbcfb5e104363285bd12eb8448bb1b7c918dd25282d1717aa81a8208dcbb',\n",
            "                                     'url': 'https://api.ipums.org/downloads/usa/api/v1/extracts/2351802/usa_00003.R'},\n",
            "                    'sasCommandFile': {'bytes': 43988,\n",
            "                                       'sha256': 'aa6c2295a221c4143d2a75afe90068c50dbe8ff882ce0eb1352f5b8a5d814129',\n",
            "                                       'url': 'https://api.ipums.org/downloads/usa/api/v1/extracts/2351802/usa_00003.sas'},\n",
            "                    'spssCommandFile': {'bytes': 45485,\n",
            "                                        'sha256': '5cf5a092b1b10c3451ba2556106cbbbdeac94fb3ba553413632e9bdf1a6e6f0a',\n",
            "                                        'url': 'https://api.ipums.org/downloads/usa/api/v1/extracts/2351802/usa_00003.sps'},\n",
            "                    'stataCommandFile': {'bytes': 75305,\n",
            "                                         'sha256': '79667cd8a8348c6153af193de05fb29f9c92b3e3be5ac33965b49d3560b4e653',\n",
            "                                         'url': 'https://api.ipums.org/downloads/usa/api/v1/extracts/2351802/usa_00003.do'}},\n",
            "  'email': 'colton.lapp@gsa.gov',\n",
            "  'extractDefinition': {'caseSelectWho': 'individuals',\n",
            "                        'collection': 'usa',\n",
            "                        'dataFormat': 'fixed_width',\n",
            "                        'dataStructure': {'rectangular': {'on': 'P'}},\n",
            "                        'description': 'ACS Extract Attempt',\n",
            "                        'samples': {'us2005a': {},\n",
            "                                    'us2010a': {},\n",
            "                                    'us2015a': {},\n",
            "                                    'us2020a': {}},\n",
            "                        'variables': {'AGE': {},\n",
            "                                      'CBSERIAL': {'preselected': True},\n",
            "                                      'CLUSTER': {'preselected': True},\n",
            "                                      'DISABWRK': {},\n",
            "                                      'EDUC': {},\n",
            "                                      'GQ': {'preselected': True},\n",
            "                                      'HHWT': {'preselected': True},\n",
            "                                      'INCTOT': {},\n",
            "                                      'INDNAICS': {},\n",
            "                                      'OCC2010': {},\n",
            "                                      'OFFPOV': {},\n",
            "                                      'PERNUM': {'preselected': True},\n",
            "                                      'PERWT': {'preselected': True},\n",
            "                                      'RACE': {},\n",
            "                                      'SAMPLE': {'preselected': True},\n",
            "                                      'SERIAL': {'preselected': True},\n",
            "                                      'SEX': {},\n",
            "                                      'SPMPOV': {},\n",
            "                                      'STATEFIP': {},\n",
            "                                      'STRATA': {'preselected': True},\n",
            "                                      'YEAR': {'preselected': True}},\n",
            "                        'version': 2},\n",
            "  'number': 3,\n",
            "  'status': 'completed'},\n",
            " {'downloadLinks': {'basicCodebook': {'bytes': 61171,\n",
            "                                      'sha256': '72a83f2a376411f4ebe0426543d3d3219f3b78a28127cd994ba543e219c6dc86',\n",
            "                                      'url': 'https://api.ipums.org/downloads/usa/api/v1/extracts/2351724/usa_00002.cbk'},\n",
            "                    'data': {'bytes': 1289788515,\n",
            "                             'sha256': '85382b3476a2e0e473d79ddb1a708c912a9d35df8e9aed285a0173680bfb28f0',\n",
            "                             'url': 'https://api.ipums.org/downloads/usa/api/v1/extracts/2351724/usa_00002.dat.gz'},\n",
            "                    'ddiCodebook': {'bytes': 157834,\n",
            "                                    'sha256': '7881dd443d97e39dd3c2d40448ff4d625153ca28dd99b08df20f7c668d0857ea',\n",
            "                                    'url': 'https://api.ipums.org/downloads/usa/api/v1/extracts/2351724/usa_00002.xml'},\n",
            "                    'rCommandFile': {'bytes': 406,\n",
            "                                     'sha256': 'd38af2419687016fc49d4b08d5c1b1124e6133a835d8d41ced13559c657afc0e',\n",
            "                                     'url': 'https://api.ipums.org/downloads/usa/api/v1/extracts/2351724/usa_00002.R'},\n",
            "                    'sasCommandFile': {'bytes': 43988,\n",
            "                                       'sha256': 'e8e784aa48064a458a28c715824326492f6db3818c07fd8e93bf5b7f9dd1b305',\n",
            "                                       'url': 'https://api.ipums.org/downloads/usa/api/v1/extracts/2351724/usa_00002.sas'},\n",
            "                    'spssCommandFile': {'bytes': 45485,\n",
            "                                        'sha256': '5b9a81d3e6918f7dad50e2e210c4651cebb7b2445e6680ac4f3f5af05f7560db',\n",
            "                                        'url': 'https://api.ipums.org/downloads/usa/api/v1/extracts/2351724/usa_00002.sps'},\n",
            "                    'stataCommandFile': {'bytes': 75305,\n",
            "                                         'sha256': 'e95da7b52f068e06295f8ede8c256f8ec84c9e348a63978767f92c73ae0cf513',\n",
            "                                         'url': 'https://api.ipums.org/downloads/usa/api/v1/extracts/2351724/usa_00002.do'}},\n",
            "  'email': 'colton.lapp@gsa.gov',\n",
            "  'extractDefinition': {'caseSelectWho': 'individuals',\n",
            "                        'collection': 'usa',\n",
            "                        'dataFormat': 'fixed_width',\n",
            "                        'dataStructure': {'rectangular': {'on': 'P'}},\n",
            "                        'description': 'ACS Extract Attempt',\n",
            "                        'samples': {'us2000a': {},\n",
            "                                    'us2001a': {},\n",
            "                                    'us2002a': {},\n",
            "                                    'us2003a': {},\n",
            "                                    'us2004a': {},\n",
            "                                    'us2005a': {},\n",
            "                                    'us2006a': {},\n",
            "                                    'us2007a': {},\n",
            "                                    'us2008a': {},\n",
            "                                    'us2009a': {},\n",
            "                                    'us2010a': {},\n",
            "                                    'us2011a': {},\n",
            "                                    'us2012a': {},\n",
            "                                    'us2013a': {},\n",
            "                                    'us2014a': {},\n",
            "                                    'us2015a': {},\n",
            "                                    'us2016a': {},\n",
            "                                    'us2017a': {},\n",
            "                                    'us2018a': {},\n",
            "                                    'us2019a': {},\n",
            "                                    'us2020a': {},\n",
            "                                    'us2021a': {}},\n",
            "                        'variables': {'AGE': {},\n",
            "                                      'CBSERIAL': {'preselected': True},\n",
            "                                      'CLUSTER': {'preselected': True},\n",
            "                                      'DISABWRK': {},\n",
            "                                      'EDUC': {},\n",
            "                                      'GQ': {'preselected': True},\n",
            "                                      'HHWT': {'preselected': True},\n",
            "                                      'INCTOT': {},\n",
            "                                      'INDNAICS': {},\n",
            "                                      'OCC2010': {},\n",
            "                                      'OFFPOV': {},\n",
            "                                      'PERNUM': {'preselected': True},\n",
            "                                      'PERWT': {'preselected': True},\n",
            "                                      'RACE': {},\n",
            "                                      'SAMPLE': {'preselected': True},\n",
            "                                      'SERIAL': {'preselected': True},\n",
            "                                      'SEX': {},\n",
            "                                      'SPMPOV': {},\n",
            "                                      'STATEFIP': {},\n",
            "                                      'STRATA': {'preselected': True},\n",
            "                                      'YEAR': {'preselected': True}},\n",
            "                        'version': 2},\n",
            "  'number': 2,\n",
            "  'status': 'completed'},\n",
            " {'downloadLinks': {'basicCodebook': {'bytes': 61171,\n",
            "                                      'sha256': '72a83f2a376411f4ebe0426543d3d3219f3b78a28127cd994ba543e219c6dc86',\n",
            "                                      'url': 'https://api.ipums.org/downloads/usa/api/v1/extracts/2351670/usa_00001.cbk'},\n",
            "                    'data': {'bytes': 1289788515,\n",
            "                             'sha256': '85382b3476a2e0e473d79ddb1a708c912a9d35df8e9aed285a0173680bfb28f0',\n",
            "                             'url': 'https://api.ipums.org/downloads/usa/api/v1/extracts/2351670/usa_00001.dat.gz'},\n",
            "                    'ddiCodebook': {'bytes': 157834,\n",
            "                                    'sha256': 'd15bae166c0c13babf2a2550f26d43daed90199517253e67fac340f82e856a89',\n",
            "                                    'url': 'https://api.ipums.org/downloads/usa/api/v1/extracts/2351670/usa_00001.xml'},\n",
            "                    'rCommandFile': {'bytes': 406,\n",
            "                                     'sha256': '755870fbb2db3904c53e221b0cdef6a2a9f8d3c52b20d15dcc16a837e2087e4d',\n",
            "                                     'url': 'https://api.ipums.org/downloads/usa/api/v1/extracts/2351670/usa_00001.R'},\n",
            "                    'sasCommandFile': {'bytes': 43988,\n",
            "                                       'sha256': '98a36d7eb1daaeb26396b6bbb3be6b987707ee38074e9079bdc56b2a049de31e',\n",
            "                                       'url': 'https://api.ipums.org/downloads/usa/api/v1/extracts/2351670/usa_00001.sas'},\n",
            "                    'spssCommandFile': {'bytes': 45485,\n",
            "                                        'sha256': '0acc7ab139d95e31c60de7968e486e1377e6d61f6d6f074171b054e478421f08',\n",
            "                                        'url': 'https://api.ipums.org/downloads/usa/api/v1/extracts/2351670/usa_00001.sps'},\n",
            "                    'stataCommandFile': {'bytes': 75305,\n",
            "                                         'sha256': '1484df0e66bf5278656464255907c77302dc28bbea5e79ad6ae6c719111f214f',\n",
            "                                         'url': 'https://api.ipums.org/downloads/usa/api/v1/extracts/2351670/usa_00001.do'}},\n",
            "  'email': 'colton.lapp@gsa.gov',\n",
            "  'extractDefinition': {'caseSelectWho': 'individuals',\n",
            "                        'collection': 'usa',\n",
            "                        'dataFormat': 'fixed_width',\n",
            "                        'dataStructure': {'rectangular': {'on': 'P'}},\n",
            "                        'description': 'ACS Extract Attempt',\n",
            "                        'samples': {'us2000a': {},\n",
            "                                    'us2001a': {},\n",
            "                                    'us2002a': {},\n",
            "                                    'us2003a': {},\n",
            "                                    'us2004a': {},\n",
            "                                    'us2005a': {},\n",
            "                                    'us2006a': {},\n",
            "                                    'us2007a': {},\n",
            "                                    'us2008a': {},\n",
            "                                    'us2009a': {},\n",
            "                                    'us2010a': {},\n",
            "                                    'us2011a': {},\n",
            "                                    'us2012a': {},\n",
            "                                    'us2013a': {},\n",
            "                                    'us2014a': {},\n",
            "                                    'us2015a': {},\n",
            "                                    'us2016a': {},\n",
            "                                    'us2017a': {},\n",
            "                                    'us2018a': {},\n",
            "                                    'us2019a': {},\n",
            "                                    'us2020a': {},\n",
            "                                    'us2021a': {}},\n",
            "                        'variables': {'AGE': {},\n",
            "                                      'CBSERIAL': {'preselected': True},\n",
            "                                      'CLUSTER': {'preselected': True},\n",
            "                                      'DISABWRK': {},\n",
            "                                      'EDUC': {},\n",
            "                                      'GQ': {'preselected': True},\n",
            "                                      'HHWT': {'preselected': True},\n",
            "                                      'INCTOT': {},\n",
            "                                      'INDNAICS': {},\n",
            "                                      'OCC2010': {},\n",
            "                                      'OFFPOV': {},\n",
            "                                      'PERNUM': {'preselected': True},\n",
            "                                      'PERWT': {'preselected': True},\n",
            "                                      'RACE': {},\n",
            "                                      'SAMPLE': {'preselected': True},\n",
            "                                      'SERIAL': {'preselected': True},\n",
            "                                      'SEX': {},\n",
            "                                      'SPMPOV': {},\n",
            "                                      'STATEFIP': {},\n",
            "                                      'STRATA': {'preselected': True},\n",
            "                                      'YEAR': {'preselected': True}},\n",
            "                        'version': 2},\n",
            "  'number': 1,\n",
            "  'status': 'completed'}]\n"
          ]
        }
      ],
      "source": [
        "\n",
        "# Send a GET request\n",
        "response = requests.get(url, headers=headers)\n",
        "\n",
        "# Check if the request was successful\n",
        "if response.status_code == 200:\n",
        "    data = response.json()\n",
        "    if 'data' in data:\n",
        "        data = data['data']\n",
        "    print(\"Extracts:\")\n",
        "    print(f\"...Type: {type(data)}\")\n",
        "    print(f\"...Length: {len(data)}\")\n",
        "    pprint.pprint(data)\n",
        "else:\n",
        "    print(f\"Failed to retrieve extracts. Status code: {response.status_code}\")\n",
        "    print(\"Response:\", response.text)"
      ]
    },
    {
      "cell_type": "markdown",
      "metadata": {
        "id": "PtrGaKWH2Lut"
      },
      "source": [
        "# Make an extract request"
      ]
    },
    {
      "cell_type": "code",
      "execution_count": 5,
      "metadata": {
        "colab": {
          "base_uri": "https://localhost:8080/"
        },
        "id": "14ldO3foq1r5",
        "outputId": "2b9ac371-1ea9-4409-fa82-8f58de11dc15"
      },
      "outputs": [
        {
          "name": "stdout",
          "output_type": "stream",
          "text": [
            "Extract number: 5\n",
            "Status: queued\n",
            "Download Links: {}\n"
          ]
        }
      ],
      "source": [
        "\n",
        "acs_samples = { f'us{y}a':{} for y in range(2005, 2021, 5)}\n",
        "payload = {\n",
        "    \"description\": \"ACS Extract Attempt\",\n",
        "    \"dataStructure\": {\n",
        "        \"rectangular\": {\n",
        "            \"on\": \"P\"\n",
        "        }\n",
        "    },\n",
        "    \"dataFormat\": \"fixed_width\",\n",
        "    \"samples\": acs_samples ,\n",
        "    \"variables\": {\n",
        "        \"AGE\": {},\n",
        "        \"SEX\": {},\n",
        "        \"RACE\": {},\n",
        "        \"STATEFIP\": {},\n",
        "        \"EDUC\" : {},\n",
        "        \"OCC2010\": {},\n",
        "        \"INDNAICS\": {},\n",
        "        \"INCTOT\" : {},\n",
        "        \"SPMPOV\": {},\n",
        "        \"OFFPOV\": {},\n",
        "        \"DISABWRK\": {},\n",
        "        \"STATEFIP\": {},\n",
        "        \"PERWT\" : {}\n",
        "    }\n",
        "}\n",
        "\n",
        "response = requests.post(url, headers=headers, json=payload)\n",
        "\n",
        "# Check if the request was successful\n",
        "if response.status_code == 200:\n",
        "    data = response.json()\n",
        "    extract_number = data['number']\n",
        "    print(\"Extract number:\", extract_number)\n",
        "    print(\"Status:\", data['status'])\n",
        "    print(\"Download Links:\", data.get('downloadLinks', {}))\n",
        "else:\n",
        "    print(\"Failed to create extract. Status code:\", response.status_code)\n",
        "    print(\"Response:\", response.text)\n"
      ]
    },
    {
      "cell_type": "markdown",
      "metadata": {
        "id": "nc6HCijh3vLk"
      },
      "source": [
        "# Check status of request, select most recent request if many exist"
      ]
    },
    {
      "cell_type": "code",
      "execution_count": 12,
      "metadata": {
        "colab": {
          "base_uri": "https://localhost:8080/"
        },
        "id": "FRFyWLywzc1g",
        "outputId": "ed9d0962-35c5-47a2-d479-a0c08ba7ac87"
      },
      "outputs": [
        {
          "name": "stdout",
          "output_type": "stream",
          "text": [
            "Multiple extracts found. Using the latest extract: 5\n",
            "Extraction status for extract number 5 is:\n",
            "completed\n",
            "(Options: `queued`, `started`, `produced` `canceled`, `failed` or `completed`)\n"
          ]
        }
      ],
      "source": [
        "response = requests.get(url, headers=headers)\n",
        "\n",
        "# Check if the request was successful\n",
        "if response.status_code == 200:\n",
        "    out = response.json()\n",
        "    \n",
        "    if 'data' in out:\n",
        "      max_version = 1\n",
        "      for extract in out['data']:\n",
        "        if extract['number'] > max_version:\n",
        "          max_version = extract['number']\n",
        "          out = extract\n",
        "      extract_number = max_version\n",
        "      print(f\"Multiple extracts found. Using the latest extract: {extract_number}\")\n",
        "\n",
        "    else:\n",
        "       extract_number = out['number']\n",
        "\n",
        "    print(f\"Extraction status for extract number {extract_number} is:\\n{out['status']}\\n(Options: `queued`, `started`, `produced` `canceled`, `failed` or `completed`)\")\n",
        "else:\n",
        "    print(\"Failed to fetch extract details. Status code:\", response.status_code)\n",
        "    print(\"Response:\", response.text)\n"
      ]
    },
    {
      "cell_type": "markdown",
      "metadata": {
        "id": "fYmRLe863zhl"
      },
      "source": [
        "# Get download link for data if ready"
      ]
    },
    {
      "cell_type": "code",
      "execution_count": 27,
      "metadata": {
        "colab": {
          "base_uri": "https://localhost:8080/"
        },
        "id": "qhEe0nOL02NR",
        "outputId": "f9f7dc33-1752-4958-d878-38549b6711e5"
      },
      "outputs": [
        {
          "name": "stdout",
          "output_type": "stream",
          "text": [
            "Data Extract is Ready.\n",
            "Download link: https://api.ipums.org/downloads/usa/api/v1/extracts/2352689/usa_00005.dat.gz\n"
          ]
        }
      ],
      "source": [
        "if 'data' in out['downloadLinks']:\n",
        "  data_url = out['downloadLinks']['data']['url']\n",
        "  codebook_url = out['downloadLinks']['basicCodebook']['url']\n",
        "  ddi_url = out['downloadLinks']['ddiCodebook']['url']\n",
        "  dat_url = out['downloadLinks']['dataFile']['url']\n",
        "  r_extract_script = out['downloadLinks']['rCommandFile']['url']\n",
        "  print(f\"Data Extract is Ready.\\nDownload link: {data_url}\")\n",
        "else:\n",
        "  print(\"Data Extract is not ready\")"
      ]
    },
    {
      "cell_type": "markdown",
      "metadata": {
        "id": "3tUgOUmd34GE"
      },
      "source": [
        "# Download Data"
      ]
    },
    {
      "cell_type": "code",
      "execution_count": 28,
      "metadata": {
        "colab": {
          "base_uri": "https://localhost:8080/"
        },
        "id": "V_QWiaUx33P0",
        "outputId": "e3c5f741-a7cd-45f5-9617-90c7be9a4542"
      },
      "outputs": [
        {
          "name": "stdout",
          "output_type": "stream",
          "text": [
            "Codebook downloaded successfully to /Users/coltonlapp/Dropbox/My Mac (Coltons-MacBook-Pro.local)/Desktop/Work/USDC/publicwork/Fed_IT_Employment/data/processed_data/IPUMS/IPUMS_usa_v2_extract5_codebook.cbk\n",
            "DDI downloaded successfully to /Users/coltonlapp/Dropbox/My Mac (Coltons-MacBook-Pro.local)/Desktop/Work/USDC/publicwork/Fed_IT_Employment/data/processed_data/IPUMS/IPUMS_usa_v2_extract5_ddi.xml\n",
            "R script downloaded successfully to https://api.ipums.org/downloads/usa/api/v1/extracts/2352689/usa_00005.R\n",
            "File downloaded successfully to /Users/coltonlapp/Dropbox/My Mac (Coltons-MacBook-Pro.local)/Desktop/Work/USDC/publicwork/Fed_IT_Employment/data/processed_data/IPUMS/IPUMS_usa_v2_extract5.gz\n"
          ]
        }
      ],
      "source": [
        "\n",
        "headers = {\n",
        "    'Authorization': f'{IPUMS_api_key}'\n",
        "}\n",
        "\n",
        "\n",
        "data_fname = os.path.join(pdir, 'IPUMS', f'IPUMS_{collection}_v{version}_extract{extract_number}.gz')\n",
        "cb_fnmae = os.path.join(pdir, 'IPUMS', f'IPUMS_{collection}_v{version}_extract{extract_number}_codebook.cbk')\n",
        "ddi_fname = os.path.join(pdir, 'IPUMS', f'IPUMS_{collection}_v{version}_extract{extract_number}_ddi.xml')\n",
        "\n",
        "# List of URLs and corresponding filenames\n",
        "downloads = [\n",
        "    {\"url\": codebook_url, \"fname\": cb_fnmae, \"desc\": \"Codebook\"},\n",
        "    {\"url\": ddi_url, \"fname\": ddi_fname, \"desc\": \"DDI\"},\n",
        "    {\"url\": data_url, \"fname\": data_fname, \"desc\": \"Data\"}\n",
        "]\n",
        "\n",
        "# Loop through each download item\n",
        "for item in downloads:\n",
        "    if item[\"url\"]:\n",
        "        # Download file\n",
        "        response = requests.get(item[\"url\"], headers=headers, stream=True)\n",
        "\n",
        "        # Check if the request was successful\n",
        "        if response.status_code == 200:\n",
        "            # Open a local file in binary write mode\n",
        "            os.makedirs(os.path.join(pdir, 'IPUMS'), exist_ok=True)\n",
        "            with open(item[\"fname\"], 'wb') as file:\n",
        "                # Write the response content in chunks\n",
        "                for chunk in response.iter_content(chunk_size=8192):\n",
        "                    file.write(chunk)\n",
        "            print(f\"{item['desc']} downloaded successfully to {item['fname']}\")\n",
        "        else:\n",
        "            print(f\"Failed to download the {item['desc']}. Status code: {response.status_code}\")\n"
      ]
    },
    {
      "cell_type": "markdown",
      "metadata": {},
      "source": [
        "## Process the GZ file using the ipumsr R package\n",
        "This cell runs an R script"
      ]
    },
    {
      "cell_type": "code",
      "execution_count": 63,
      "metadata": {},
      "outputs": [
        {
          "name": "stdout",
          "output_type": "stream",
          "text": [
            "[1] \"Starting the process_IPUMS_gz_file.R script...\"\n",
            "[1] \"Successfully changed to the root directory: \"                                                               \n",
            "[2] \"/Users/coltonlapp/Dropbox/My Mac (Coltons-MacBook-Pro.local)/Desktop/Work/USDC/publicwork/Fed_IT_Employment\"\n",
            "Changing the working directory to: data/processed_data/IPUMS \n",
            "Working directory changed to: /Users/coltonlapp/Dropbox/My Mac (Coltons-MacBook-Pro.local)/Desktop/Work/USDC/publicwork/Fed_IT_Employment/data/processed_data/IPUMS \n",
            "Loading required package: ipumsr\n",
            "Warning message:\n",
            "package ‘ipumsr’ was built under R version 4.3.3 \n",
            "\u001b[?25h\u001b[?25h[1] \"Successfully loaded the ipumsr package\"\n",
            "\u001b[?25h[1] \"Reading the DDI file...\"\n",
            "\u001b[?25h\u001b[?25h[1] \"Reading the data file...\"\n",
            "\u001b[?25hUse of data from IPUMS USA is subject to conditions including that users should cite the data appropriately. Use command `ipums_conditions()` for more details.\n",
            "\u001b[?25h\u001b[?25hSaving the data to a csv file: IPUMS_usa_v2_extract5.csv \n",
            "\u001b[?25h\u001b[?25h\u001b[?25h"
          ]
        }
      ],
      "source": [
        "# Get just filename of ddi_fname without path\n",
        "ddi_fname_no_path = os.path.basename(ddi_fname)\n",
        "\n",
        "# get just filename of data_fname without path\n",
        "data_fname_no_path = os.path.basename(data_fname)\n",
        "\n",
        "# Get processed data directory starting at root \n",
        "pdir_after_root = os.path.join( 'data', 'processed_data','IPUMS')\n",
        "\n",
        "# pass in directory with data and ddi_fname as an argument to the R script\n",
        "!Rscript process_IPUMS_gz_file.R $pdir_after_root $ddi_fname_no_path $data_fname_no_path\n"
      ]
    }
  ],
  "metadata": {
    "colab": {
      "provenance": []
    },
    "kernelspec": {
      "display_name": "Python 3",
      "name": "python3"
    },
    "language_info": {
      "codemirror_mode": {
        "name": "ipython",
        "version": 3
      },
      "file_extension": ".py",
      "mimetype": "text/x-python",
      "name": "python",
      "nbconvert_exporter": "python",
      "pygments_lexer": "ipython3",
      "version": "3.11.5"
    }
  },
  "nbformat": 4,
  "nbformat_minor": 0
}
